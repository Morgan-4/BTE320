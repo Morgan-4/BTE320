{
  "nbformat": 4,
  "nbformat_minor": 0,
  "metadata": {
    "colab": {
      "provenance": [],
      "authorship_tag": "ABX9TyPH2Kpzuwn15cTWUQkXrAUS",
      "include_colab_link": true
    },
    "kernelspec": {
      "name": "python3",
      "display_name": "Python 3"
    },
    "language_info": {
      "name": "python"
    }
  },
  "cells": [
    {
      "cell_type": "markdown",
      "metadata": {
        "id": "view-in-github",
        "colab_type": "text"
      },
      "source": [
        "<a href=\"https://colab.research.google.com/github/Morgan-4/BTE320/blob/main/In_Class_Assignment_BTE320.ipynb\" target=\"_parent\"><img src=\"https://colab.research.google.com/assets/colab-badge.svg\" alt=\"Open In Colab\"/></a>"
      ]
    },
    {
      "cell_type": "code",
      "execution_count": null,
      "metadata": {
        "colab": {
          "base_uri": "https://localhost:8080/"
        },
        "id": "AaLmVNJyCmn4",
        "outputId": "d3f36ff9-85b3-4fcf-b766-228de14982b9"
      },
      "outputs": [
        {
          "output_type": "stream",
          "name": "stdout",
          "text": [
            "244.92000000000002\n"
          ]
        }
      ],
      "source": [
        "# Surface area of a cylinder\n",
        "h = 10 # height of cylinder\n",
        "r = 3 # radius of circle\n",
        "pi = 3.14\n",
        "\n",
        "Surface_Area = (2 * pi * (r**2)) + (2 *pi * r *h)\n",
        "# Display result\n",
        "print(Surface_Area)"
      ]
    },
    {
      "cell_type": "code",
      "source": [
        "# Rock, Paper & Scissors game between two players\n",
        "\n",
        "p1 = input('Player 1 - Choose rock, paper or scissors: ')\n",
        "p2 = input('Player 2 - Choose rock, paper or scissors: ')\n",
        "\n",
        "if p1 == p2:\n",
        "  print('Draw')\n",
        "elif p1 == 'rock' and p2 == 'scissors':\n",
        "  print('Player 1 Wins!')\n",
        "elif p1 == 'paper' and p2 == 'rock':\n",
        "  print('Player 1 Wins!')\n",
        "elif p1 == 'scissors' and p2 == 'paper':\n",
        "  print('Player 1 Wins!')\n",
        "elif p1 == 'scissors' and p2 == 'rock':\n",
        "  print('Player 2 Wins!')\n",
        "elif p1 == 'rock' and p2 == 'paper':\n",
        "  print('Player 2 Wins!')\n",
        "elif p1 == 'paper' and p2 == 'scissors':\n",
        "  print('Player 2 Wins!')\n",
        "print('Good Game!!')\n"
      ],
      "metadata": {
        "id": "YuUpldKgDg1q",
        "colab": {
          "base_uri": "https://localhost:8080/"
        },
        "outputId": "d5f907e6-e591-4284-f90e-b570e0c05e4d"
      },
      "execution_count": 7,
      "outputs": [
        {
          "output_type": "stream",
          "name": "stdout",
          "text": [
            "Player 1 - Choose rock, paper or scissors: paper\n",
            "Player 2 - Choose rock, paper or scissors: paper\n",
            "Draw\n",
            "Good Game!!\n"
          ]
        }
      ]
    },
    {
      "cell_type": "code",
      "source": [
        "# Calculator --> + - * / **\n",
        "\n",
        "n1 = float(input(\"Enter number 1: \"))\n",
        "n2 = float(input(\"Enter number 2: \"))\n",
        "sym = input(\"Enter Operator (+, -, *, /, **): \")\n",
        "print()\n",
        "if sym == \"+\":\n",
        " print(n1 + n2)\n",
        "elif sym == \"-\":\n",
        "   print(n1 - n2)\n",
        "elif sym == \"*\":\n",
        "  print(n1 * n2)\n",
        "elif sym == \"/\":\n",
        "  print(n1 / n2)\n",
        "elif sym == \"**\":\n",
        "  print(n1 ** n2)\n",
        "\n"
      ],
      "metadata": {
        "colab": {
          "base_uri": "https://localhost:8080/"
        },
        "id": "pv4zcjtdBzFh",
        "outputId": "71627d5f-b1ef-4472-fd2c-7a3521858154"
      },
      "execution_count": 22,
      "outputs": [
        {
          "output_type": "stream",
          "name": "stdout",
          "text": [
            "Enter number 1: 4\n",
            "Enter number 2: 2\n",
            "Enter Operator (+, -, *, /, **): **\n",
            "\n",
            "16.0\n"
          ]
        }
      ]
    },
    {
      "cell_type": "code",
      "source": [],
      "metadata": {
        "id": "q-sHx-duX4T7"
      },
      "execution_count": null,
      "outputs": []
    }
  ]
}