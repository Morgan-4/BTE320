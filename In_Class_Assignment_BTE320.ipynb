{
  "nbformat": 4,
  "nbformat_minor": 0,
  "metadata": {
    "colab": {
      "provenance": [],
      "authorship_tag": "ABX9TyMOOU1hXoY1ODNa+nPu6RSi",
      "include_colab_link": true
    },
    "kernelspec": {
      "name": "python3",
      "display_name": "Python 3"
    },
    "language_info": {
      "name": "python"
    }
  },
  "cells": [
    {
      "cell_type": "markdown",
      "metadata": {
        "id": "view-in-github",
        "colab_type": "text"
      },
      "source": [
        "<a href=\"https://colab.research.google.com/github/Morgan-4/BTE320/blob/main/In_Class_Assignment_BTE320.ipynb\" target=\"_parent\"><img src=\"https://colab.research.google.com/assets/colab-badge.svg\" alt=\"Open In Colab\"/></a>"
      ]
    },
    {
      "cell_type": "code",
      "execution_count": null,
      "metadata": {
        "colab": {
          "base_uri": "https://localhost:8080/"
        },
        "id": "AaLmVNJyCmn4",
        "outputId": "d3f36ff9-85b3-4fcf-b766-228de14982b9"
      },
      "outputs": [
        {
          "output_type": "stream",
          "name": "stdout",
          "text": [
            "244.92000000000002\n"
          ]
        }
      ],
      "source": [
        "# Surface area of a cylinder\n",
        "h = 10 # height of cylinder\n",
        "r = 3 # radius of circle\n",
        "pi = 3.14\n",
        "\n",
        "Surface_Area = (2 * pi * (r**2)) + (2 *pi * r *h)\n",
        "# Display result\n",
        "print(Surface_Area)"
      ]
    },
    {
      "cell_type": "code",
      "source": [
        "# Rock, Paper & Scissors game between two players\n",
        "\n",
        "choice = input('Do you want to play Rock, Paper or Scissors: ')\n",
        "\n",
        "while choice == \"yes\":\n",
        "  p1 = input('Player 1 - Choose rock, paper or scissors: ')\n",
        "  p2 = input('Player 2 - Choose rock, paper or scissors: ')\n",
        "\n",
        "  if p1 == p2:\n",
        "    print('Draw')\n",
        "  elif p1 == 'rock' and p2 == 'scissors':\n",
        "     print('Player 1 Wins!')\n",
        "  elif p1 == 'paper' and p2 == 'rock':\n",
        "    print('Player 1 Wins!')\n",
        "  elif p1 == 'scissors' and p2 == 'paper':\n",
        "    print('Player 1 Wins!')\n",
        "  elif p1 == 'scissors' and p2 == 'rock':\n",
        "    print('Player 2 Wins!')\n",
        "  elif p1 == 'rock' and p2 == 'paper':\n",
        "    print('Player 2 Wins!')\n",
        "  elif p1 == 'paper' and p2 == 'scissors':\n",
        "    print('Player 2 Wins!')\n",
        "  print('Good Game!!')\n",
        "  print()\n",
        "  choice = input('Do you want to play Rock, Paper and Scissors again: ')\n"
      ],
      "metadata": {
        "id": "YuUpldKgDg1q",
        "colab": {
          "base_uri": "https://localhost:8080/"
        },
        "outputId": "912ec3c9-78df-4e69-9328-874504fc3581"
      },
      "execution_count": null,
      "outputs": [
        {
          "name": "stdout",
          "output_type": "stream",
          "text": [
            "Do you want to play Rock, Paper or Scissors: yes\n",
            "Player 1 - Choose rock, paper or scissors: rock\n",
            "Player 2 - Choose rock, paper or scissors: paper\n",
            "Player 2 Wins!\n",
            "Good Game!!\n",
            "\n",
            "Do you want to play Rock, Paper and Scissors again: no\n"
          ]
        }
      ]
    },
    {
      "cell_type": "code",
      "source": [
        "# Calculator --> + - * / **\n",
        "\n",
        "n1 = float(input(\"Enter number 1: \"))\n",
        "n2 = float(input(\"Enter number 2: \"))\n",
        "sym = input(\"Enter Operator (+, -, *, /, **): \")\n",
        "print()\n",
        "if sym == \"+\":\n",
        " print(n1 + n2)\n",
        "elif sym == \"-\":\n",
        "   print(n1 - n2)\n",
        "elif sym == \"*\":\n",
        "  print(n1 * n2)\n",
        "elif sym == \"/\":\n",
        "  print(n1 / n2)\n",
        "elif sym == \"**\":\n",
        "  print(n1 ** n2)\n",
        "\n"
      ],
      "metadata": {
        "colab": {
          "base_uri": "https://localhost:8080/"
        },
        "id": "pv4zcjtdBzFh",
        "outputId": "71627d5f-b1ef-4472-fd2c-7a3521858154"
      },
      "execution_count": null,
      "outputs": [
        {
          "output_type": "stream",
          "name": "stdout",
          "text": [
            "Enter number 1: 4\n",
            "Enter number 2: 2\n",
            "Enter Operator (+, -, *, /, **): **\n",
            "\n",
            "16.0\n"
          ]
        }
      ]
    },
    {
      "cell_type": "code",
      "source": [
        "# Parking Garage - Initial Problem\n",
        "# Charges 5 plus 2.50 for each hour parked. Min fee is 10 and max fee is 20\n",
        "# from 1 to 8 hours\n",
        "\n",
        "\n",
        "#parking = input('How many hours did you park: ')\n",
        "\n",
        "flat_rate = 5\n",
        "hourly_rate = 2.50\n",
        "\n",
        "for i in range(1,9):\n",
        "  total = flat_rate + hourly_rate * i\n",
        "  if total < 10:\n",
        "    total = 10.0\n",
        "  elif total > 20:\n",
        "    total = 20.0\n",
        "  print(i, total)\n"
      ],
      "metadata": {
        "id": "q-sHx-duX4T7",
        "colab": {
          "base_uri": "https://localhost:8080/"
        },
        "outputId": "a2a7b4cc-8087-4782-f282-fcd477d5e83d"
      },
      "execution_count": null,
      "outputs": [
        {
          "output_type": "stream",
          "name": "stdout",
          "text": [
            "1 10\n",
            "2 10.0\n",
            "3 12.5\n",
            "4 15.0\n",
            "5 17.5\n",
            "6 20.0\n",
            "7 20\n",
            "8 20\n"
          ]
        }
      ]
    },
    {
      "cell_type": "code",
      "source": [
        "# Movie Theater - Initial Problem\n",
        "# each ticket $10. Without advertising, 20 people are forecasted to attend. Additional people may attend based on advertising spending, estimated to be:\n",
        "# Addtional attendess = 2* round((Square root)advertisingDollars). Advertising costs, there are fixed costs to run the threater of $200\n",
        "# For range -- we know the number of iterations. The optimal soultion is 75 because you make 105 in profit\n",
        "\n",
        "\n",
        "\n",
        "for ad in range(0,201,25):\n",
        "  additional = 2 * round(ad ** 0.5)\n",
        "  profit = (20 + additional) * 10 - 200 - ad\n",
        "  print(ad, profit)\n"
      ],
      "metadata": {
        "colab": {
          "base_uri": "https://localhost:8080/"
        },
        "id": "QRRCbafVcN3g",
        "outputId": "576b28ab-8d75-4191-c8d6-810011c50e66"
      },
      "execution_count": null,
      "outputs": [
        {
          "output_type": "stream",
          "name": "stdout",
          "text": [
            "0 0\n",
            "25 75\n",
            "50 90\n",
            "75 105\n",
            "100 100\n",
            "125 95\n",
            "150 90\n",
            "175 85\n",
            "200 80\n"
          ]
        }
      ]
    },
    {
      "cell_type": "code",
      "source": [
        "# Program asks user for integer inputs from the keyboard. Those updates should be appended to a list\n",
        "\n",
        "x = []\n",
        "\n",
        "item = int(input('Give a value: '))\n",
        "while item != 0:\n",
        "  x.append(item)\n",
        "  print(x)\n",
        "  item = int(input('Give another value: '))\n",
        "print('You inputed 0')"
      ],
      "metadata": {
        "colab": {
          "base_uri": "https://localhost:8080/"
        },
        "id": "n-Udjpo3mJQg",
        "outputId": "62b530b9-16e6-4222-8474-8df87a11b298"
      },
      "execution_count": null,
      "outputs": [
        {
          "output_type": "stream",
          "name": "stdout",
          "text": [
            "Give a value: 2\n",
            "[2]\n",
            "Give another value: 3\n",
            "[2, 3]\n",
            "Give another value: 4\n",
            "[2, 3, 4]\n",
            "Give another value: 0\n",
            "You inputed 0\n"
          ]
        }
      ]
    },
    {
      "cell_type": "code",
      "source": [
        "# The numbers will the keys and the names with be the values\n",
        "# Output: {1:'Jan', 2:'Feb',....}\n",
        "\n",
        "months = {}\n",
        "\n",
        "names = [\"Jan\", \"Feb\", \"Mar\", \"Apr\", \"May\", \"Jun\", \"Jul\", \"Aug\", \"Sep\", \"Oct\", \"Nov\", \"Dec\"]\n",
        "numbers = [1,2,3,4,5,6,7,8,9,10,11,12]\n",
        "\n",
        "for i in range(1,13):\n",
        "  months[i] = names[i-1]\n",
        "print(months)\n"
      ],
      "metadata": {
        "colab": {
          "base_uri": "https://localhost:8080/"
        },
        "id": "rhLxwUhpWLf5",
        "outputId": "0397d13e-2093-4e90-edb2-8ad63464b0ef"
      },
      "execution_count": null,
      "outputs": [
        {
          "output_type": "stream",
          "name": "stdout",
          "text": [
            "{1: 'Jan', 2: 'Feb', 3: 'Mar', 4: 'Apr', 5: 'May', 6: 'Jun', 7: 'Jul', 8: 'Aug', 9: 'Sep', 10: 'Oct', 11: 'Nov', 12: 'Dec'}\n"
          ]
        }
      ]
    },
    {
      "cell_type": "code",
      "source": [
        "# Parking Garage - Initial Problem\n",
        "# Charges 5 plus 2.50 for each hour parked\n",
        "#Prompts for the number of hourse parked\n",
        "# Calcualted and displays the pakring fee charged\n",
        "# use def calcFee(hours)\n",
        "#Example run:\n",
        "# Enter hours parked: 4\n",
        "# Parking fee: $ 15.0\n",
        "\n",
        "def calcFee(hours):\n",
        "  parking_fee = 5 + 2.50*hours_parked\n",
        "  return parking_fee\n",
        "\n",
        "hours_parked = int(input('Enter hours parked: '))\n",
        "\n",
        "\n",
        "print(f'Parking Fee: {calcFee(hours_parked)}')\n"
      ],
      "metadata": {
        "colab": {
          "base_uri": "https://localhost:8080/"
        },
        "id": "QMVzxap3cHTg",
        "outputId": "20ea29c4-79ca-44b7-ee23-76a398b9d702"
      },
      "execution_count": 17,
      "outputs": [
        {
          "output_type": "stream",
          "name": "stdout",
          "text": [
            "Enter hours parked: 4\n",
            "Parking Fee: 15.0\n"
          ]
        }
      ]
    },
    {
      "cell_type": "code",
      "source": [],
      "metadata": {
        "id": "tXNS_JBJh6BL"
      },
      "execution_count": null,
      "outputs": []
    }
  ]
}