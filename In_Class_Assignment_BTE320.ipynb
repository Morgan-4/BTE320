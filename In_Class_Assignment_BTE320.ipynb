{
  "nbformat": 4,
  "nbformat_minor": 0,
  "metadata": {
    "colab": {
      "provenance": [],
      "authorship_tag": "ABX9TyOiM7jKgihq9YE5tGgpT6/A",
      "include_colab_link": true
    },
    "kernelspec": {
      "name": "python3",
      "display_name": "Python 3"
    },
    "language_info": {
      "name": "python"
    }
  },
  "cells": [
    {
      "cell_type": "markdown",
      "metadata": {
        "id": "view-in-github",
        "colab_type": "text"
      },
      "source": [
        "<a href=\"https://colab.research.google.com/github/Morgan-4/BTE320/blob/main/In_Class_Assignment_BTE320.ipynb\" target=\"_parent\"><img src=\"https://colab.research.google.com/assets/colab-badge.svg\" alt=\"Open In Colab\"/></a>"
      ]
    },
    {
      "cell_type": "code",
      "execution_count": null,
      "metadata": {
        "colab": {
          "base_uri": "https://localhost:8080/"
        },
        "id": "AaLmVNJyCmn4",
        "outputId": "d3f36ff9-85b3-4fcf-b766-228de14982b9"
      },
      "outputs": [
        {
          "output_type": "stream",
          "name": "stdout",
          "text": [
            "244.92000000000002\n"
          ]
        }
      ],
      "source": [
        "# Surface area of a cylinder\n",
        "h = 10 # height of cylinder\n",
        "r = 3 # radius of circle\n",
        "pi = 3.14\n",
        "\n",
        "Surface_Area = (2 * pi * (r**2)) + (2 *pi * r *h)\n",
        "# Display result\n",
        "print(Surface_Area)"
      ]
    },
    {
      "cell_type": "code",
      "source": [
        "# Rock, Paper & Scissors game between two players\n",
        "\n",
        "choice = input('Do you want to play Rock, Paper or Scissors: ')\n",
        "\n",
        "while choice == \"yes\":\n",
        "  p1 = input('Player 1 - Choose rock, paper or scissors: ')\n",
        "  p2 = input('Player 2 - Choose rock, paper or scissors: ')\n",
        "\n",
        "  if p1 == p2:\n",
        "    print('Draw')\n",
        "  elif p1 == 'rock' and p2 == 'scissors':\n",
        "     print('Player 1 Wins!')\n",
        "  elif p1 == 'paper' and p2 == 'rock':\n",
        "    print('Player 1 Wins!')\n",
        "  elif p1 == 'scissors' and p2 == 'paper':\n",
        "    print('Player 1 Wins!')\n",
        "  elif p1 == 'scissors' and p2 == 'rock':\n",
        "    print('Player 2 Wins!')\n",
        "  elif p1 == 'rock' and p2 == 'paper':\n",
        "    print('Player 2 Wins!')\n",
        "  elif p1 == 'paper' and p2 == 'scissors':\n",
        "    print('Player 2 Wins!')\n",
        "  print('Good Game!!')\n",
        "  print()\n",
        "  choice = input('Do you want to play Rock, Paper and Scissors again: ')\n"
      ],
      "metadata": {
        "id": "YuUpldKgDg1q",
        "colab": {
          "base_uri": "https://localhost:8080/"
        },
        "outputId": "912ec3c9-78df-4e69-9328-874504fc3581"
      },
      "execution_count": null,
      "outputs": [
        {
          "name": "stdout",
          "output_type": "stream",
          "text": [
            "Do you want to play Rock, Paper or Scissors: yes\n",
            "Player 1 - Choose rock, paper or scissors: rock\n",
            "Player 2 - Choose rock, paper or scissors: paper\n",
            "Player 2 Wins!\n",
            "Good Game!!\n",
            "\n",
            "Do you want to play Rock, Paper and Scissors again: no\n"
          ]
        }
      ]
    },
    {
      "cell_type": "code",
      "source": [
        "# Calculator --> + - * / **\n",
        "\n",
        "n1 = float(input(\"Enter number 1: \"))\n",
        "n2 = float(input(\"Enter number 2: \"))\n",
        "sym = input(\"Enter Operator (+, -, *, /, **): \")\n",
        "print()\n",
        "if sym == \"+\":\n",
        " print(n1 + n2)\n",
        "elif sym == \"-\":\n",
        "   print(n1 - n2)\n",
        "elif sym == \"*\":\n",
        "  print(n1 * n2)\n",
        "elif sym == \"/\":\n",
        "  print(n1 / n2)\n",
        "elif sym == \"**\":\n",
        "  print(n1 ** n2)\n",
        "\n"
      ],
      "metadata": {
        "colab": {
          "base_uri": "https://localhost:8080/"
        },
        "id": "pv4zcjtdBzFh",
        "outputId": "71627d5f-b1ef-4472-fd2c-7a3521858154"
      },
      "execution_count": null,
      "outputs": [
        {
          "output_type": "stream",
          "name": "stdout",
          "text": [
            "Enter number 1: 4\n",
            "Enter number 2: 2\n",
            "Enter Operator (+, -, *, /, **): **\n",
            "\n",
            "16.0\n"
          ]
        }
      ]
    },
    {
      "cell_type": "code",
      "source": [
        "# Parking Garage - Initial Problem\n",
        "# Charges 5 plus 2.50 for each hour parked. Min fee is 10 and max fee is 20\n",
        "# from 1 to 8 hours\n",
        "\n",
        "\n",
        "#parking = input('How many hours did you park: ')\n",
        "\n",
        "flat_rate = 5\n",
        "hourly_rate = 2.50\n",
        "\n",
        "for i in range(1,9):\n",
        "  total = flat_rate + hourly_rate * i\n",
        "  if total < 10:\n",
        "    total = 10.0\n",
        "  elif total > 20:\n",
        "    total = 20.0\n",
        "  print(i, total)\n"
      ],
      "metadata": {
        "id": "q-sHx-duX4T7",
        "colab": {
          "base_uri": "https://localhost:8080/"
        },
        "outputId": "a2a7b4cc-8087-4782-f282-fcd477d5e83d"
      },
      "execution_count": null,
      "outputs": [
        {
          "output_type": "stream",
          "name": "stdout",
          "text": [
            "1 10\n",
            "2 10.0\n",
            "3 12.5\n",
            "4 15.0\n",
            "5 17.5\n",
            "6 20.0\n",
            "7 20\n",
            "8 20\n"
          ]
        }
      ]
    },
    {
      "cell_type": "code",
      "source": [
        "# Movie Theater - Initial Problem\n",
        "# each ticket $10. Without advertising, 20 people are forecasted to attend. Additional people may attend based on advertising spending, estimated to be:\n",
        "# Addtional attendess = 2* round((Square root)advertisingDollars). Advertising costs, there are fixed costs to run the threater of $200\n",
        "# For range -- we know the number of iterations. The optimal soultion is 75 because you make 105 in profit\n",
        "\n",
        "\n",
        "\n",
        "for ad in range(0,201,25):\n",
        "  additional = 2 * round(ad ** 0.5)\n",
        "  profit = (20 + additional) * 10 - 200 - ad\n",
        "  print(ad, profit)\n"
      ],
      "metadata": {
        "colab": {
          "base_uri": "https://localhost:8080/"
        },
        "id": "QRRCbafVcN3g",
        "outputId": "576b28ab-8d75-4191-c8d6-810011c50e66"
      },
      "execution_count": null,
      "outputs": [
        {
          "output_type": "stream",
          "name": "stdout",
          "text": [
            "0 0\n",
            "25 75\n",
            "50 90\n",
            "75 105\n",
            "100 100\n",
            "125 95\n",
            "150 90\n",
            "175 85\n",
            "200 80\n"
          ]
        }
      ]
    },
    {
      "cell_type": "code",
      "source": [
        "# Program asks user for integer inputs from the keyboard. Those updates should be appended to a list\n",
        "\n",
        "x = []\n",
        "\n",
        "item = int(input('Give a value: '))\n",
        "while item != 0:\n",
        "  x.append(item)\n",
        "  print(x)\n",
        "  item = int(input('Give another value: '))\n",
        "print('You inputed 0')"
      ],
      "metadata": {
        "colab": {
          "base_uri": "https://localhost:8080/"
        },
        "id": "n-Udjpo3mJQg",
        "outputId": "62b530b9-16e6-4222-8474-8df87a11b298"
      },
      "execution_count": null,
      "outputs": [
        {
          "output_type": "stream",
          "name": "stdout",
          "text": [
            "Give a value: 2\n",
            "[2]\n",
            "Give another value: 3\n",
            "[2, 3]\n",
            "Give another value: 4\n",
            "[2, 3, 4]\n",
            "Give another value: 0\n",
            "You inputed 0\n"
          ]
        }
      ]
    },
    {
      "cell_type": "code",
      "source": [
        "# The numbers will the keys and the names with be the values\n",
        "# Output: {1:'Jan', 2:'Feb',....}\n",
        "\n",
        "months = {}\n",
        "\n",
        "names = [\"Jan\", \"Feb\", \"Mar\", \"Apr\", \"May\", \"Jun\", \"Jul\", \"Aug\", \"Sep\", \"Oct\", \"Nov\", \"Dec\"]\n",
        "numbers = [1,2,3,4,5,6,7,8,9,10,11,12]\n",
        "\n",
        "for i in range(1,13):\n",
        "  months[i] = names[i-1]\n",
        "print(months)\n"
      ],
      "metadata": {
        "colab": {
          "base_uri": "https://localhost:8080/"
        },
        "id": "rhLxwUhpWLf5",
        "outputId": "0397d13e-2093-4e90-edb2-8ad63464b0ef"
      },
      "execution_count": null,
      "outputs": [
        {
          "output_type": "stream",
          "name": "stdout",
          "text": [
            "{1: 'Jan', 2: 'Feb', 3: 'Mar', 4: 'Apr', 5: 'May', 6: 'Jun', 7: 'Jul', 8: 'Aug', 9: 'Sep', 10: 'Oct', 11: 'Nov', 12: 'Dec'}\n"
          ]
        }
      ]
    },
    {
      "cell_type": "code",
      "source": [
        "# Parking Garage - Initial Problem\n",
        "# Charges 5 plus 2.50 for each hour parked\n",
        "#Prompts for the number of hourse parked\n",
        "# Calcualted and displays the pakring fee charged\n",
        "# use def calcFee(hours)\n",
        "#Example run:\n",
        "# Enter hours parked: 4\n",
        "# Parking fee: $ 15.0\n",
        "\n",
        "def calcFee(hours):\n",
        "  parking_fee = 5 + 2.50*hours_parked\n",
        "  return parking_fee\n",
        "\n",
        "hours_parked = int(input('Enter hours parked: '))\n",
        "\n",
        "\n",
        "print(f'Parking Fee: {calcFee(hours_parked)}')\n"
      ],
      "metadata": {
        "colab": {
          "base_uri": "https://localhost:8080/"
        },
        "id": "QMVzxap3cHTg",
        "outputId": "20ea29c4-79ca-44b7-ee23-76a398b9d702"
      },
      "execution_count": 17,
      "outputs": [
        {
          "output_type": "stream",
          "name": "stdout",
          "text": [
            "Enter hours parked: 4\n",
            "Parking Fee: 15.0\n"
          ]
        }
      ]
    },
    {
      "cell_type": "code",
      "source": [
        "# Parking Garage - Enhancements\n",
        "# define and call a function that displays the result\n",
        "# refine the signature for calcFee()\n",
        "#def calcFee(hours,decimals=2)\n",
        "# Enter hours parked: 4\n",
        "# Parking fee: $ 15.0\n",
        "\n",
        "def calcFee(hours, decimals=2):\n",
        "  fee = 5 + 2.5*hours\n",
        "  fee = round(fee,decimals)\n",
        "  return fee\n",
        "\n",
        "def displayFee(fee):\n",
        "  print(fee)\n",
        "\n",
        "hours_parked = int(input('Enter hours parked: '))\n",
        "f = calcFee(hours_parked)\n",
        "displayFee(f)\n",
        "\n",
        ""
      ],
      "metadata": {
        "colab": {
          "base_uri": "https://localhost:8080/"
        },
        "id": "tXNS_JBJh6BL",
        "outputId": "a8e6dbc3-4765-4d40-c16b-d23f44e0cb75"
      },
      "execution_count": 29,
      "outputs": [
        {
          "output_type": "stream",
          "name": "stdout",
          "text": [
            "Enter hours parked: 4\n",
            "15.0\n"
          ]
        }
      ]
    },
    {
      "cell_type": "code",
      "source": [
        "# Recusion Function\n",
        "# Take an input a string and returns the string backwards\n",
        "\n",
        "\n",
        "def rev(s):\n",
        "  if len(s) == 1:\n",
        "    return s\n",
        "  else:\n",
        "    return s[-1] + rev(s[:-1])\n",
        "\n",
        "rev('Halloween')\n"
      ],
      "metadata": {
        "colab": {
          "base_uri": "https://localhost:8080/",
          "height": 35
        },
        "id": "UQBlQtB0ivYk",
        "outputId": "a014f0dc-464d-4b49-b57f-01d061e2655a"
      },
      "execution_count": 12,
      "outputs": [
        {
          "output_type": "execute_result",
          "data": {
            "text/plain": [
              "'neewollaH'"
            ],
            "application/vnd.google.colaboratory.intrinsic+json": {
              "type": "string"
            }
          },
          "metadata": {},
          "execution_count": 12
        }
      ]
    },
    {
      "cell_type": "code",
      "source": [
        "#Function that calculates the weighted average of a list L, given weights w\n",
        "#The function should handle the following exception error types:\n",
        "# - ZeroDivisionError (returns empty list)\n",
        "# - TypeError (returns empyty list)\n",
        "# - any other unknown error (returns float('nan'))\n",
        "\n",
        "def wAvg(L, w):\n",
        "  res = []\n",
        "  try:\n",
        "    for i in range(len(L)):\n",
        "      res.append(L[i]*w[i])\n",
        "    return sum(res) / sum(w)\n",
        "  except ZeroDivisionError:\n",
        "    print(\"Division by zero.\")\n",
        "    return []\n",
        "  except TypeError:\n",
        "    print(\"Non-numerical objects found.\")\n",
        "    return []\n",
        "  except Exception as e:\n",
        "    print(f'Unkown error: {e}')\n",
        "    return float('nan')\n",
        "\n",
        "wAvg([1,2,3], [.1,.3,.4])"
      ],
      "metadata": {
        "colab": {
          "base_uri": "https://localhost:8080/"
        },
        "id": "fXVsCqgh9f7M",
        "outputId": "772691c1-15da-4b70-ffbc-24f6ae50c5bd"
      },
      "execution_count": 6,
      "outputs": [
        {
          "output_type": "execute_result",
          "data": {
            "text/plain": [
              "2.375"
            ]
          },
          "metadata": {},
          "execution_count": 6
        }
      ]
    },
    {
      "cell_type": "code",
      "source": [
        "#Difine a class named student. student has two attributes\n",
        "# name(str), number(str)\n",
        "# Create two student objects out of this class\n",
        "#Objects wil be: name: James Bond, number:007, name: Clark Kent, number:333\n",
        "#Print their names\n",
        "\n",
        "class Student:\n",
        "  def __init__(self, name, number):\n",
        "    self.name = name\n",
        "    self.number = number\n",
        "\n",
        "  def __str__(self):\n",
        "    return f'Name: {self.name}.'"
      ],
      "metadata": {
        "id": "qLX13-t299jY"
      },
      "execution_count": 10,
      "outputs": []
    },
    {
      "cell_type": "code",
      "source": [
        "s1 = Student(\"James Bond\", \"007\")\n",
        "s2 = Student(\"Clark Kent\", \"333\")"
      ],
      "metadata": {
        "id": "lRjsj-EG4OAg"
      },
      "execution_count": 11,
      "outputs": []
    },
    {
      "cell_type": "code",
      "source": [
        "s1.name"
      ],
      "metadata": {
        "colab": {
          "base_uri": "https://localhost:8080/",
          "height": 35
        },
        "id": "8miX4j6k5BVA",
        "outputId": "4a885f8f-4b2a-4b30-ce0e-c58c497816cc"
      },
      "execution_count": 12,
      "outputs": [
        {
          "output_type": "execute_result",
          "data": {
            "text/plain": [
              "'James Bond'"
            ],
            "application/vnd.google.colaboratory.intrinsic+json": {
              "type": "string"
            }
          },
          "metadata": {},
          "execution_count": 12
        }
      ]
    },
    {
      "cell_type": "code",
      "source": [
        "# The student class you defined above has a new attribute\n",
        "#this attribute is courses and it will keep the list of courses that the student takes\n",
        "# Its types is list and it will initialize as an empty list. There will be a method named 'enroll' to enroll the course.\n",
        "#The student will enroll the course, it it had not enrolled already. Moreover, there will be a method named 'get_courses' which will return the course list'\n",
        "# Redefine the Student class based on these info\n",
        "# Student data:\n",
        "# name: John Does, number: 1111\n",
        "# courses: BTE320, BTE401\n",
        "\n",
        "class Student:\n",
        "  def __init__(self, name, number):\n",
        "    self.name = name\n",
        "    self.number = number\n",
        "    self.courses = []\n",
        "\n",
        "  def enroll(self, course):\n",
        "    if course not in self.courses:\n",
        "      self.courses.append(course)\n",
        "    else:\n",
        "      print(f'You have already enrolled in course: {course}')\n",
        "\n",
        "  def get_courses(self):\n",
        "    return self.courses\n"
      ],
      "metadata": {
        "id": "nRd2i5etK3yp"
      },
      "execution_count": 7,
      "outputs": []
    },
    {
      "cell_type": "code",
      "source": [
        "s = Student(\"Bob\", \"123\")"
      ],
      "metadata": {
        "id": "dpODLIZ7MXOa"
      },
      "execution_count": 8,
      "outputs": []
    },
    {
      "cell_type": "code",
      "source": [
        "s.enroll('ABC123')\n",
        "s.enroll('ABC456')\n",
        "s.enroll('ABC789')"
      ],
      "metadata": {
        "id": "jdME7u9zPWvB"
      },
      "execution_count": 9,
      "outputs": []
    },
    {
      "cell_type": "code",
      "source": [
        "s.get_courses()"
      ],
      "metadata": {
        "colab": {
          "base_uri": "https://localhost:8080/"
        },
        "id": "C4gBdFM-PeLt",
        "outputId": "a4832e12-9373-4c9d-b7b2-c6e02c0f81e8"
      },
      "execution_count": 10,
      "outputs": [
        {
          "output_type": "execute_result",
          "data": {
            "text/plain": [
              "['ABC123', 'ABC456', 'ABC789']"
            ]
          },
          "metadata": {},
          "execution_count": 10
        }
      ]
    },
    {
      "cell_type": "code",
      "source": [
        "s.enroll('ABC123')"
      ],
      "metadata": {
        "colab": {
          "base_uri": "https://localhost:8080/"
        },
        "id": "51Fc5vR_Pn0s",
        "outputId": "34b820e3-193f-46ad-9d17-0c7b962700fd"
      },
      "execution_count": 11,
      "outputs": [
        {
          "output_type": "stream",
          "name": "stdout",
          "text": [
            "You have already enrolled in course: ABC123\n"
          ]
        }
      ]
    }
  ]
}